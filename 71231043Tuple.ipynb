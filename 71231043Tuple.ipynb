{
 "cells": [
  {
   "cell_type": "code",
   "execution_count": 3,
   "id": "7faf9619-4ace-4cc8-88bd-40540041b0fc",
   "metadata": {},
   "outputs": [
    {
     "data": {
      "text/plain": [
       "'a'"
      ]
     },
     "execution_count": 3,
     "metadata": {},
     "output_type": "execute_result"
    }
   ],
   "source": [
    "tuple1 = (1, 'a', 2.3)  \n",
    "tuple2 = (4, 'b', 5.0)\n",
    "tuple1[0] # Mengembalikan gagal \n",
    "tuple1[1] # Mengembalikan 'a'"
   ]
  },
  {
   "cell_type": "code",
   "execution_count": 4,
   "id": "e6cacba2-17a8-4821-982a-3cb3f51fe4b0",
   "metadata": {},
   "outputs": [
    {
     "data": {
      "text/plain": [
       "True"
      ]
     },
     "execution_count": 4,
     "metadata": {},
     "output_type": "execute_result"
    }
   ],
   "source": [
    "tuple1 > tuple2 # Mengembalikan False  \n",
    "tuple2 > tuple1 # Mengembalikan True"
   ]
  },
  {
   "cell_type": "code",
   "execution_count": 7,
   "id": "92733b03-8c12-4df0-b8a1-fce07b31ed18",
   "metadata": {},
   "outputs": [
    {
     "name": "stdout",
     "output_type": "stream",
     "text": [
      "Tuple 1\n",
      "Tuple 2\n"
     ]
    }
   ],
   "source": [
    "tuple1 = (1, 'a', 2.3)  \n",
    "tuple2 = (4, 'b', 5.0)\n",
    "print(dict[tuple1])  \n",
    "print(dict[tuple2])  "
   ]
  },
  {
   "cell_type": "code",
   "execution_count": null,
   "id": "8ad79a59-c5ea-4b7d-b016-92db1dd381e2",
   "metadata": {},
   "outputs": [],
   "source": [
    "tuple_example = (“Python”, 3.6 )\n",
    "empty_tuple = ()"
   ]
  },
  {
   "cell_type": "code",
   "execution_count": null,
   "id": "1bf2bc0d-2b77-4012-a8a6-4ab003e94c17",
   "metadata": {},
   "outputs": [],
   "source": [
    "single_tuple = (“Python”,)  "
   ]
  },
  {
   "cell_type": "code",
   "execution_count": null,
   "id": "126f9fba-0f4f-457d-9d87-99720175a2d0",
   "metadata": {},
   "outputs": [],
   "source": [
    "nested_tuple = ((1,2), (3,4), (5,6))"
   ]
  },
  {
   "cell_type": "code",
   "execution_count": 8,
   "id": "8ececd77-c221-4f27-b2ab-fd20c19a6ceb",
   "metadata": {},
   "outputs": [
    {
     "data": {
      "text/plain": [
       "True"
      ]
     },
     "execution_count": 8,
     "metadata": {},
     "output_type": "execute_result"
    }
   ],
   "source": [
    "(0, 1, 2) < (0, 3, 4)  "
   ]
  },
  {
   "cell_type": "code",
   "execution_count": 9,
   "id": "d3568dc0-5251-4956-a662-3a0764c8ed0c",
   "metadata": {},
   "outputs": [
    {
     "data": {
      "text/plain": [
       "True"
      ]
     },
     "execution_count": 9,
     "metadata": {},
     "output_type": "execute_result"
    }
   ],
   "source": [
    "(0, 1, 2000000) < (0, 3, 4) "
   ]
  },
  {
   "cell_type": "code",
   "execution_count": 10,
   "id": "fea2f49f-860a-46a4-90eb-3c0ef3892d20",
   "metadata": {},
   "outputs": [
    {
     "name": "stdout",
     "output_type": "stream",
     "text": [
      "['jendela', 'lembut', 'cahaya', 'pecah', 'dalam', 'tapi', 'sana', 'apa', 'di']\n"
     ]
    }
   ],
   "source": [
    "kalimat = \"di sana jendela pecah cahaya apa lembut tapi dalam\"\n",
    "kata_kata = kalimat.split()\n",
    "kata_kata_berdecor = [(len(kata), kata) for kata in kata_kata]\n",
    "kata_kata_berdecor.sort(reverse=True)\n",
    "hasil = [kata for panjang, kata in kata_kata_berdecor]\n",
    "print(hasil)"
   ]
  },
  {
   "cell_type": "code",
   "execution_count": 16,
   "id": "8c35b7cb-cd86-49e1-b4e9-fc6a69ca20fe",
   "metadata": {},
   "outputs": [
    {
     "name": "stdout",
     "output_type": "stream",
     "text": [
      "John\n",
      "15\n",
      "A\n"
     ]
    }
   ],
   "source": [
    "nama = \"John\"\n",
    "usia = 15\n",
    "nilai = \"A\"\n",
    "nama, usia, nilai = \"John\", 15, \"A\"\n",
    "print(nama)\n",
    "print(usia)  \n",
    "print(nilai)"
   ]
  },
  {
   "cell_type": "code",
   "execution_count": 21,
   "id": "7be425b0-6f84-4d74-8c1c-a4019b223aab",
   "metadata": {},
   "outputs": [
    {
     "name": "stdout",
     "output_type": "stream",
     "text": [
      "John\n",
      "15\n",
      "A\n"
     ]
    }
   ],
   "source": [
    "def get_student_info():\n",
    "    return \"John\", 15, \"A\"\n",
    "\n",
    "nama, umur, nilai = get_student_info()\n",
    "\n",
    "nama, _, nilai = \"John\", 15, \"A\"\n",
    "\n",
    "print(nama)\n",
    "print(umur)\n",
    "print(nilai)"
   ]
  },
  {
   "cell_type": "code",
   "execution_count": 22,
   "id": "19b6d871-3b8c-4b5c-b9ef-c299ea04ceb9",
   "metadata": {},
   "outputs": [
    {
     "name": "stdout",
     "output_type": "stream",
     "text": [
      "[('a', 10), ('b', 1), ('c', 22)]\n"
     ]
    }
   ],
   "source": [
    "d = {'a':10, 'b':1, 'c':22}  \n",
    "t = list(d.items())  \n",
    "print(t)  "
   ]
  },
  {
   "cell_type": "code",
   "execution_count": 23,
   "id": "789185de-3de5-425a-aee8-d0c4aef0ac47",
   "metadata": {},
   "outputs": [
    {
     "name": "stdout",
     "output_type": "stream",
     "text": [
      "Sebelum diurutkan: [('a', 10), ('b', 1), ('c', 22)]\n",
      "Setelah diurutkan: [('a', 10), ('b', 1), ('c', 22)]\n"
     ]
    }
   ],
   "source": [
    "d = {'a': 10, 'b': 1, 'c': 22}\n",
    "t = list(d.items())\n",
    "print(\"Sebelum diurutkan:\", t)  # Output: [('a', 10), ('b', 1), ('c', 22)]\n",
    "t.sort()\n",
    "print(\"Setelah diurutkan:\", t)  # Output: [('a', 10), ('b', 1), ('c', 22)]\n"
   ]
  },
  {
   "cell_type": "code",
   "execution_count": 24,
   "id": "e3eefb27-f177-4b56-9b22-d7e317169882",
   "metadata": {},
   "outputs": [
    {
     "name": "stdout",
     "output_type": "stream",
     "text": [
      "10 a\n",
      "1 b\n",
      "22 c\n"
     ]
    }
   ],
   "source": [
    "d = {'a': 10, 'b': 1, 'c': 22}\n",
    "for key, val in list(d.items()):\n",
    "    print(val, key)"
   ]
  },
  {
   "cell_type": "code",
   "execution_count": 25,
   "id": "8c7e6466-ea2e-44d7-8e2b-f80c835c085c",
   "metadata": {},
   "outputs": [
    {
     "name": "stdout",
     "output_type": "stream",
     "text": [
      "[(22, 'c'), (10, 'a'), (1, 'b')]\n"
     ]
    }
   ],
   "source": [
    "d = {'a': 10, 'b': 1, 'c': 22}\n",
    "l = list()\n",
    "for key, val in d.items():\n",
    "    l.append((val, key))\n",
    "\n",
    "l.sort(reverse=True)\n",
    "print(l)"
   ]
  },
  {
   "cell_type": "code",
   "execution_count": null,
   "id": "c0426989-cbd1-4efd-bfef-bede41984ba1",
   "metadata": {},
   "outputs": [],
   "source": [
    "import string\n",
    "fhand = open('romeo-full.txt')\n",
    "counts = dict()\n",
    "\n",
    "for line in fhand:\n",
    "    line = line.translate(str.maketrans('', '', string.punctuation))\n",
    "    line = line.lower()\n",
    "    words = line.split()\n",
    "    for word in words:\n",
    "        if word not in counts:\n",
    "            counts[word] = 1\n",
    "        else:\n",
    "            counts[word] += 1\n",
    "\n",
    "lst = list()\n",
    "for key, val in list(counts.items()):\n",
    "    lst.append((val, key))\n",
    "lst.sort(reverse=True)\n",
    "\n",
    "for key, val in lst[:10]:\n",
    "    print(key, val)"
   ]
  },
  {
   "cell_type": "code",
   "execution_count": 30,
   "id": "86ac81f0-c1c5-4251-b881-5e2428318e64",
   "metadata": {},
   "outputs": [
    {
     "name": "stdout",
     "output_type": "stream",
     "text": [
      "('nendya', 'dida') 088112266\n"
     ]
    }
   ],
   "source": [
    "first = 'dida'\n",
    "number = '088112266'\n",
    "directory = {} \n",
    "\n",
    "directory[(last, first)] = number  \n",
    "\n",
    "for key in directory:\n",
    "    print(key, directory[key])\n"
   ]
  },
  {
   "cell_type": "code",
   "execution_count": 31,
   "id": "7fb052a4-35c6-4323-91b2-db94feb7d37c",
   "metadata": {},
   "outputs": [
    {
     "name": "stdout",
     "output_type": "stream",
     "text": [
      "Output: True\n"
     ]
    }
   ],
   "source": [
    "# Latihan11.1\n",
    "def check_all_equal(t):\n",
    "    unique_values = set(t)\n",
    "    return len(unique_values) == 1\n",
    "\n",
    "tA = (90, 90, 90, 90)\n",
    "result = check_all_equal(tA)\n",
    "print(f\"Output: {result}\")\n"
   ]
  },
  {
   "cell_type": "code",
   "execution_count": 32,
   "id": "48a06b6b-e760-4130-8da3-49834199a117",
   "metadata": {},
   "outputs": [
    {
     "name": "stdout",
     "output_type": "stream",
     "text": [
      "NIM : 22064091\n",
      "NAMA : Matahari Bhakti Nendya\n",
      "ALAMAT : Bantul, DI Yogyakarta\n",
      "NIM: ('2', '2', '0', '6', '4', '0', '9', '1')\n",
      "NAMA DEPAN: ('m', 'a', 't', 'a', 'h', 'a', 'r', 'i')\n",
      "NAMA TERBALIK: ('Nendya', 'Bhakti', 'Matahari')\n"
     ]
    }
   ],
   "source": [
    "data = ('Matahari Bhakti Nendya', '22064091', 'Bantul, DI Yogyakarta')\n",
    "\n",
    "nama_lengkap = data[0]\n",
    "nim = data[1]\n",
    "alamat = data[2]\n",
    "\n",
    "print(f\"NIM : {nim}\")\n",
    "print(f\"NAMA : {nama_lengkap}\")\n",
    "print(f\"ALAMAT : {alamat}\")\n",
    "\n",
    "nim_tuple = tuple(nim)\n",
    "nama_depan_tuple = tuple(nama_lengkap.split()[0].lower())\n",
    "nama_terbalik_tuple = tuple(reversed(nama_lengkap.split()))\n",
    "\n",
    "print(f\"NIM: {nim_tuple}\")\n",
    "print(f\"NAMA DEPAN: {nama_depan_tuple}\")\n",
    "print(f\"NAMA TERBALIK: {nama_terbalik_tuple}\")\n"
   ]
  },
  {
   "cell_type": "code",
   "execution_count": 33,
   "id": "614f70dd-05e9-4c5d-b032-9e504b89bdac",
   "metadata": {},
   "outputs": [
    {
     "name": "stdin",
     "output_type": "stream",
     "text": [
      "Enter a file name:  Orikonba\n"
     ]
    },
    {
     "name": "stdout",
     "output_type": "stream",
     "text": [
      "File cannot be opened: Orikonba\n"
     ]
    }
   ],
   "source": [
    "file_name = input(\"Enter a file name: \")\n",
    "\n",
    "try:\n",
    "    fhand = open(file_name)\n",
    "    counts = dict()\n",
    "    \n",
    "    for line in fhand:\n",
    "        if line.startswith('From '):\n",
    "            words = line.split()\n",
    "            time = words[5]\n",
    "            hour = time[:2]\n",
    "            counts[hour] = counts.get(hour, 0) + 1\n",
    "    \n",
    "    for key in sorted(counts):\n",
    "        print(key, counts[key])\n",
    "except:\n",
    "    print(\"File cannot be opened:\", file_name)"
   ]
  },
  {
   "cell_type": "code",
   "execution_count": null,
   "id": "937959a9-6330-49b4-a641-71120f3df8c4",
   "metadata": {},
   "outputs": [],
   "source": []
  }
 ],
 "metadata": {
  "kernelspec": {
   "display_name": "Python 3 (ipykernel)",
   "language": "python",
   "name": "python3"
  },
  "language_info": {
   "codemirror_mode": {
    "name": "ipython",
    "version": 3
   },
   "file_extension": ".py",
   "mimetype": "text/x-python",
   "name": "python",
   "nbconvert_exporter": "python",
   "pygments_lexer": "ipython3",
   "version": "3.11.7"
  }
 },
 "nbformat": 4,
 "nbformat_minor": 5
}
